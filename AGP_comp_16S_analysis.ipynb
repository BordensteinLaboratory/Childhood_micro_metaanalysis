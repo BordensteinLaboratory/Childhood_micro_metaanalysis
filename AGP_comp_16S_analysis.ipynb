{
 "cells": [
  {
   "cell_type": "markdown",
   "id": "de094eb1",
   "metadata": {},
   "source": [
    "## AGP analysis complementing sociodemographic associations with childhood gut microbiomes\n",
    "\n",
    "This is an analysis of AGP data from healthy individuals\n",
    "\n",
    "This analysis was run in QIIME2-2021.4.\n",
    "\n",
    "### Importing data\n",
    "\n",
    "The AGP data was imported separately from the childhood datasets, as different sequencing protocols and primer sets were used across all studies. Code for importing the AGP data is below:"
   ]
  },
  {
   "cell_type": "code",
   "execution_count": null,
   "id": "696a91e1",
   "metadata": {},
   "outputs": [],
   "source": [
    "project=/Users/elizabethmallott/Dropbox/Projects/VMI/children/AGP_comp\n",
    "\n",
    "cd ${project}\n",
    "\n",
    "qiime tools import --type 'SampleData[SequencesWithQuality]' --input-path ${project}/Manifest.txt \\\n",
    "    --output-path agp-single-end-demux.qza --input-format SingleEndFastqManifestPhred33V2\n",
    "    \n",
    "cd\n",
    "\n",
    "qiime demux summarize --i-data ${project}/agp-single-end-demux.qza \\\n",
    "    --o-visualization ${project}/agp-single-end-demux.qzv"
   ]
  },
  {
   "cell_type": "markdown",
   "id": "b80231aa",
   "metadata": {},
   "source": [
    "### Running DADA2\n",
    "\n",
    "AGP sequences were run through DADA2 separate from the childhood datasets, per the QIIME developers' suggestions. "
   ]
  },
  {
   "cell_type": "code",
   "execution_count": null,
   "id": "0d17ec4f",
   "metadata": {},
   "outputs": [],
   "source": [
    "project=/Users/elizabethmallott/Dropbox/Projects/VMI/children/AGP_comp\n",
    "\n",
    "qiime dada2 denoise-single --i-demultiplexed-seqs ${project}/agp-single-end-demux.qza \\\n",
    "    --p-trunc-len 150 --p-trim-left 19 --p-n-threads 2 \\\n",
    "    --o-table ${project}/agp-table.qza \\\n",
    "    --o-representative-sequences ${project}/agp-rep-seqs.qza \\\n",
    "    --o-denoising-stats ${project}/agp-dada2-stats.qza\n",
    "\n",
    "qiime metadata tabulate --m-input-file ${project}/agp-dada2-stats.qza \\\n",
    "    --o-visualization ${project}/agp-dada2-stats.qzv\n",
    "\n",
    "qiime feature-table summarize --i-table ${project}/agp-table.qza \\\n",
    "    --o-visualization ${project}/agp-table.qzv \\\n",
    "    --m-sample-metadata-file ${project}/agp-metadata.txt"
   ]
  },
  {
   "cell_type": "markdown",
   "id": "d4386970",
   "metadata": {},
   "source": [
    "### Taxonomic classification \n",
    "\n",
    "Taxonomy was assigned using a Naive-Bayesian classifier trained on the Greengenes 13_8 99% OTU full-length 16S sequence database.\n",
    "\n",
    "Pre-trained classifiers were obtained from the QIIME2 website: Bokulich, N.A., Robeson, M., Dillon, M.R. bokulich-lab/RESCRIPt. Zenodo. http://doi.org/10.5281/zenodo.3891931 Bokulich, N.A., Kaehler, B.D., Rideout, J.R. et al. Optimizing taxonomic classification of marker-gene amplicon sequences with QIIME 2’s q2-feature-classifier plugin. Microbiome 6, 90 (2018). https://doi.org/10.1186/s40168-018-0470-z\n",
    "\n",
    "Mitochondria and chloroplast sequences were removed from feature tables and tables were collapsed at the level of genera."
   ]
  },
  {
   "cell_type": "code",
   "execution_count": null,
   "id": "ed375c33",
   "metadata": {},
   "outputs": [],
   "source": [
    "project=/Users/elizabethmallott/Dropbox/Projects/VMI/children/AGP_comp\n",
    "\n",
    "qiime feature-classifier classify-sklearn --i-classifier gg-13-8-99-nb-classifier.qza \\\n",
    "    --i-reads ${project}/agp-rep-seqs.qza --o-classification ${project}/agp-taxonomy.qza\n",
    "    \n",
    "qiime taxa filter-table --i-table ${project}/agp-table.qza \\\n",
    "    --i-taxonomy ${project}/agp-taxonomy.qza --p-exclude mitochondria,chloroplast \\\n",
    "    --o-filtered-table ${project}/agp-table-nomito-nochloro.qza\n",
    "\n",
    "qiime taxa collapse --i-table ${project}/agp-table-nomito-nochloro.qza \\\n",
    "    --i-taxonomy ${project}/agp-taxonomy.qza \\\n",
    "    --p-level 6 --o-collapsed-table ${project}/agp-table-nomito-nochloro-genus.qza\n",
    "\n",
    "qiime tools export --input-path ${project}/agp-table-nomito-nochloro-genus.qza \\\n",
    "    --output-path ${project}/exported\n",
    "\n",
    "biom convert -i ${project}/exported/feature-table.biom -o ${project}/feature-table-genus.tsv --to-tsv"
   ]
  },
  {
   "cell_type": "markdown",
   "id": "710dada0",
   "metadata": {},
   "source": [
    "Adult and childhood tables were also merged and collapsed at the level of genera prior to random forest analysis in R."
   ]
  },
  {
   "cell_type": "code",
   "execution_count": null,
   "id": "26858118",
   "metadata": {},
   "outputs": [],
   "source": [
    "project=/Users/elizabethmallott/Dropbox/Projects/VMI/children\n",
    "\n",
    "qiime feature-table merge \\\n",
    "    --i-tables ${project}/AGP_comp/agp-table-nomito-nochloro-genus.qza \\\n",
    "    ${project}/merged-table-nomito-nochloro-new-genus.qza \\\n",
    "    --o-merged-table ${project}/AGP_comp/merged-adult-child-table-genus.qza\n",
    "\n",
    "qiime tools export --input-path ${project}/AGP_comp/merged-adult-child-table-genus.qza \\\n",
    "    --output-path ${project}/AGP_comp/exported\n",
    "\n",
    "biom convert -i ${project}/AGP_comp/exported/feature-table.biom \\\n",
    "    -o ${project}/AGP_comp/merged-adult-child-feature-table-genus.tsv \\\n",
    "    --to-tsv"
   ]
  },
  {
   "cell_type": "markdown",
   "id": "38da785d",
   "metadata": {},
   "source": [
    "### Random forest classification\n",
    "\n",
    "We then used the random forest model created using the childhood datasets to see if the same taxa that are associated with race in children are associated with race in adults."
   ]
  },
  {
   "cell_type": "code",
   "execution_count": null,
   "id": "c09cab25",
   "metadata": {},
   "outputs": [],
   "source": [
    "project=/Users/elizabethmallott/Dropbox/Projects/VMI/children/\n",
    "\n",
    "qiime sample-classifier predict-classification \\\n",
    "  --i-table ${project}/AGP_comp/agp-table.qza \\\n",
    "  --i-sample-estimator ${project}/merged-table-filtered-race-classifier/sample_estimator.qza \\\n",
    "  --o-predictions ${project}/merged-table-filtered-race-classifier/agp-predictions.qza \\\n",
    "  --o-probabilities ${project}/merged-table-filtered-race-classifier/agp-probabilities.qza\n",
    "\n",
    "qiime sample-classifier confusion-matrix \\\n",
    "  --i-predictions ${project}/merged-table-filtered-race-classifier/agp-predictions.qza \\\n",
    "  --i-probabilities ${project}/merged-table-filtered-race-classifier/agp-probabilities.qza \\\n",
    "  --m-truth-file ${project}/AGP_comp/agp-metadata.txt \\\n",
    "  --m-truth-column race \\\n",
    "  --o-visualization ${project}/merged-table-filtered-race-classifier/agp-confusion-matrix.qzv\n",
    "  \n",
    "qiime sample-classifier predict-classification \\\n",
    "  --i-table ${project}/AGP_comp/agp-table.qza \\\n",
    "  --i-sample-estimator ${project}/merged-table-filtered-race-classifier-90/sample_estimator.qza \\\n",
    "  --o-predictions ${project}/merged-table-filtered-race-classifier-90/agp-predictions.qza \\\n",
    "  --o-probabilities ${project}/merged-table-filtered-race-classifier-90/agp-probabilities.qza\n",
    "\n",
    "qiime sample-classifier confusion-matrix \\\n",
    "  --i-predictions ${project}/merged-table-filtered-race-classifier-90/agp-predictions.qza \\\n",
    "  --i-probabilities ${project}/merged-table-filtered-race-classifier-90/agp-probabilities.qza \\\n",
    "  --m-truth-file ${project}/AGP_comp/agp-metadata.txt \\\n",
    "  --m-truth-column race \\\n",
    "  --o-visualization ${project}/merged-table-filtered-race-classifier-90/agp-confusion-matrix.qzv\n",
    "  \n",
    "qiime sample-classifier predict-classification \\\n",
    "  --i-table ${project}/AGP_comp/agp-table.qza \\\n",
    "  --i-sample-estimator ${project}/merged-table-filtered-312month-race-classifier/sample_estimator.qza \\\n",
    "  --o-predictions ${project}/merged-table-filtered-312month-race-classifier/agp-predictions.qza \\\n",
    "  --o-probabilities ${project}/merged-table-filtered-312month-race-classifier/agp-probabilities.qza\n",
    "\n",
    "qiime sample-classifier confusion-matrix \\\n",
    "  --i-predictions ${project}/merged-table-filtered-312month-race-classifier/agp-predictions.qza \\\n",
    "  --i-probabilities ${project}/merged-table-filtered-312month-race-classifier/agp-probabilities.qza \\\n",
    "  --m-truth-file ${project}/AGP_comp/agp-metadata.txt \\\n",
    "  --m-truth-column race \\\n",
    "  --o-visualization ${project}/merged-table-filtered-312month-race-classifier/agp-confusion-matrix.qzv"
   ]
  },
  {
   "cell_type": "markdown",
   "id": "546a827e",
   "metadata": {},
   "source": [
    "In reverse..."
   ]
  },
  {
   "cell_type": "code",
   "execution_count": null,
   "id": "ee653d3d",
   "metadata": {},
   "outputs": [],
   "source": [
    "qiime sample-classifier classify-samples \\\n",
    "  --i-table ${project}/AGP_comp/agp-table.qza --m-metadata-file ${project}/AGP_comp/agp-metadata.txt \\\n",
    "  --m-metadata-column race --p-missing-samples ignore --p-optimize-feature-selection \\\n",
    "  --p-parameter-tuning --p-estimator RandomForestClassifier --p-random-state 123 \\\n",
    "  --output-dir ${project}/AGP_comp/agp-table-race-classifier\n",
    "  \n",
    "qiime sample-classifier classify-samples \\\n",
    "  --i-table ${project}/AGP_comp/agp-table.qza --m-metadata-file ${project}/AGP_comp/agp-metadata.txt \\\n",
    "  --m-metadata-column race --p-missing-samples ignore --p-optimize-feature-selection \\\n",
    "  --p-parameter-tuning --p-estimator RandomForestClassifier --p-random-state 123 --p-test-size 0.9 \\\n",
    "  --output-dir ${project}/AGP_comp/agp-table-race-classifier-90"
   ]
  }
 ],
 "metadata": {
  "kernelspec": {
   "display_name": "Bash",
   "language": "bash",
   "name": "bash"
  }
 },
 "nbformat": 4,
 "nbformat_minor": 5
}
