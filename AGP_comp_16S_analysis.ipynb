{
 "cells": [
  {
   "cell_type": "markdown",
   "id": "a02aa47a",
   "metadata": {},
   "source": [
    "## AGP analysis complementing sociodemographic associations with childhood gut microbiomes\n",
    "\n",
    "This is an analysis of AGP data from healthy individuals\n",
    "\n",
    "This analysis was run in QIIME2-2021.4.\n",
    "\n",
    "### Importing data\n",
    "\n",
    "The AGP data was imported separately from the childhood datasets, as different sequencing protocols and primer sets were used across all studies. Code for importing the AGP data is below:"
   ]
  },
  {
   "cell_type": "code",
   "execution_count": null,
   "id": "2cf99fd7",
   "metadata": {},
   "outputs": [],
   "source": [
    "project=/Users/elizabethmallott/Dropbox/Projects/VMI/children/AGP_comp\n",
    "\n",
    "cd ${project}\n",
    "\n",
    "qiime tools import --type 'SampleData[SequencesWithQuality]' --input-path ${project}/Manifest.txt \\\n",
    "    --output-path agp-single-end-demux.qza --input-format SingleEndFastqManifestPhred33V2\n",
    "    \n",
    "cd\n",
    "\n",
    "qiime demux summarize --i-data ${project}/agp-single-end-demux.qza \\\n",
    "    --o-visualization ${project}/agp-single-end-demux.qzv"
   ]
  },
  {
   "cell_type": "markdown",
   "id": "d6402ef9",
   "metadata": {},
   "source": [
    "### Running DADA2\n",
    "\n",
    "AGP sequences were run through DADA2 separate from the childhood datasets, per the QIIME developers' suggestions. "
   ]
  },
  {
   "cell_type": "code",
   "execution_count": null,
   "id": "9cd94be4",
   "metadata": {},
   "outputs": [],
   "source": [
    "project=/Users/elizabethmallott/Dropbox/Projects/VMI/children/AGP_comp\n",
    "\n",
    "qiime dada2 denoise-single --i-demultiplexed-seqs ${project}/agp-single-end-demux.qza \\\n",
    "    --p-trunc-len 150 --p-trim-left 19 --p-n-threads 2 \\\n",
    "    --o-table ${project}/agp-table.qza \\\n",
    "    --o-representative-sequences ${project}/agp-rep-seqs.qza \\\n",
    "    --o-denoising-stats ${project}/agp-dada2-stats.qza\n",
    "\n",
    "qiime metadata tabulate --m-input-file ${project}/agp-dada2-stats.qza \\\n",
    "    --o-visualization ${project}/agp-dada2-stats.qzv\n",
    "\n",
    "qiime feature-table summarize --i-table ${project}/agp-table.qza \\\n",
    "    --o-visualization ${project}/agp-table.qzv \\\n",
    "    --m-sample-metadata-file ${project}/agp-metadata.txt"
   ]
  },
  {
   "cell_type": "markdown",
   "id": "e861e128",
   "metadata": {},
   "source": [
    "### Random forest classification\n",
    "\n",
    "We then used the random forest model created using the childhood datasets to see if the same taxa that are associated with race in children are associated with race in adults."
   ]
  },
  {
   "cell_type": "code",
   "execution_count": null,
   "id": "5d256242",
   "metadata": {},
   "outputs": [],
   "source": [
    "project=/Users/elizabethmallott/Dropbox/Projects/VMI/children/\n",
    "\n",
    "qiime sample-classifier predict-classification \\\n",
    "  --i-table AGP_comp/agp-table.qza \\\n",
    "  --i-sample-estimator merged-table-filtered-race-classifier/sample_estimator.qza \\\n",
    "  --o-predictions merged-table-filtered-race-classifier/agp-predictions.qza \\\n",
    "  --o-probabilities merged-table-filtered-race-classifier/agp-probabilities.qza\n",
    "\n",
    "qiime sample-classifier confusion-matrix \\\n",
    "  --i-predictions merged-table-filtered-race-classifier/agp-predictions.qza \\\n",
    "  --i-probabilities merged-table-filtered-race-classifier/agp-probabilities.qza \\\n",
    "  --m-truth-file AGP_comp/agp-metadata.txt \\\n",
    "  --m-truth-column Race \\\n",
    "  --o-visualization merged-table-filtered-race-classifier/agp-confusion-matrix.qzv\n",
    "  \n",
    "qiime sample-classifier predict-classification \\\n",
    "  --i-table AGP_comp/agp-table.qza \\\n",
    "  --i-sample-estimator merged-table-filtered-312month-race-classifier/sample_estimator.qza \\\n",
    "  --o-predictions merged-table-filtered-312month-race-classifier/agp-predictions.qza \\\n",
    "  --o-probabilities merged-table-filtered-312month-race-classifier/agp-probabilities.qza\n",
    "\n",
    "qiime sample-classifier confusion-matrix \\\n",
    "  --i-predictions merged-table-filtered-312month-race-classifier/agp-predictions.qza \\\n",
    "  --i-probabilities merged-table-filtered-312month-race-classifier/agp-probabilities.qza \\\n",
    "  --m-truth-file AGP_comp/agp-metadata.txt \\\n",
    "  --m-truth-column Race \\\n",
    "  --o-visualization merged-table-filtered-312month-race-classifier/agp-confusion-matrix.qzv"
   ]
  },
  {
   "cell_type": "code",
   "execution_count": null,
   "id": "f89d1faf",
   "metadata": {},
   "outputs": [],
   "source": []
  }
 ],
 "metadata": {
  "kernelspec": {
   "display_name": "Bash",
   "language": "bash",
   "name": "bash"
  }
 },
 "nbformat": 4,
 "nbformat_minor": 5
}
