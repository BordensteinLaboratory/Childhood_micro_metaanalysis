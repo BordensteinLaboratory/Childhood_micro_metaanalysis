{
 "cells": [
  {
   "cell_type": "markdown",
   "metadata": {},
   "source": [
    "## 16S preliminary metaanalysis of sociodemographic associations with childhood gut microbiomes\n",
    "\n",
    "This is a metaanalysis of publicly available 16S rRNA sequencing datasets from the gut microbiomes of pre-adolescent children. The goal is to see if sociodemographic factors are related to gut microbiome composition.\n",
    "\n",
    "This analysis was run in QIIME2-2021.4.\n",
    "\n",
    "### Importing data\n",
    "\n",
    "Each study is individually imported, as different sequencing protocols and primer sets were used in each study. Code for importing each study is below:"
   ]
  },
  {
   "cell_type": "code",
   "execution_count": null,
   "metadata": {},
   "outputs": [],
   "source": [
    "#Importing sequences from Herman et al., 2019\n",
    "project=/Users/elizabethmallott/Dropbox/Projects/VMI/children/herman\n",
    "\n",
    "qiime tools import --type EMPPairedEndSequences --input-path ${project} --output-path ${project}/herman_raw_seqs.qza\n",
    "\n",
    "qiime demux emp-paired --m-barcodes-file ${project}/herman_metadata.txt --m-barcodes-column BarcodeSequence \\\n",
    "    --p-rev-comp-mapping-barcodes --i-seqs ${project}/herman_raw_seqs.qza \\\n",
    "    --o-per-sample-sequences ${project}/herman-paired-end-demux.qza \\\n",
    "    --o-error-correction-details ${project}/herman-demux-details.qza\n",
    "    \n",
    "qiime demux summarize --i-data ${project}/herman-paired-end-demux.qza \\\n",
    "    --o-visualization ${project}/herman-paired-end-demux.qzv"
   ]
  },
  {
   "cell_type": "code",
   "execution_count": null,
   "metadata": {},
   "outputs": [],
   "source": [
    "#Importing sequences from Chu et al., 2016\n",
    "project=/Users/elizabethmallott/Dropbox/Projects/VMI/children/chu\n",
    "\n",
    "cd ${project}\n",
    "\n",
    "qiime tools import --type 'SampleData[SequencesWithQuality]' --input-path ${project}/Manifest.txt \\\n",
    "    --output-path chu-single-end-demux.qza --input-format SingleEndFastqManifestPhred33V2\n",
    "    \n",
    "cd\n",
    "\n",
    "qiime demux summarize --i-data ${project}/chu-single-end-demux.qza \\\n",
    "    --o-visualization ${project}/chu-single-end-demux.qzv"
   ]
  },
  {
   "cell_type": "code",
   "execution_count": null,
   "metadata": {},
   "outputs": [],
   "source": [
    "#Importing sequences from Planer et al., 2016\n",
    "project=/Users/elizabethmallott/Dropbox/Projects/VMI/children/planer\n",
    "\n",
    "cd ${project}\n",
    "\n",
    "qiime tools import --type 'SampleData[PairedEndSequencesWithQuality]' --input-path ${project}/Manifest.tsv \\\n",
    "    --output-path planer-paired-end-demux.qza --input-format PairedEndFastqManifestPhred33V2\n",
    "    \n",
    "cd\n",
    "\n",
    "qiime demux summarize --i-data ${project}/planer-paired-end-demux.qza \\\n",
    "    --o-visualization ${project}/planer-paired-end-demux.qzv"
   ]
  },
  {
   "cell_type": "code",
   "execution_count": null,
   "metadata": {},
   "outputs": [],
   "source": [
    "#Importing sequences from Kim type 1 diabetes study (QIITA 11129)\n",
    "project=/Users/elizabethmallott/Dropbox/Projects/VMI/children/kim_t1d\n",
    "\n",
    "cd ${project}\n",
    "\n",
    "qiime tools import --type 'EMPPairedEndSequences' \\\n",
    "    --input-path ${project}/study_raw_data_11129_070221-125259/FASTQ/31359 \\\n",
    "    --output-path ${project}/kim-t1d-paired-end.qza\n",
    "    \n",
    "cd\n",
    "\n",
    "qiime tools peek ${project}/kim-t1d-paired-end.qza\n",
    "\n",
    "qiime demux emp-paired --i-seqs ${project}/kim-t1d-paired-end.qza \\\n",
    "    --m-barcodes-file ${project}/study_raw_data_11129_070221-125259/mapping_files/31359_mapping_file.txt \\\n",
    "    --m-barcodes-column barcode \\\n",
    "    --p-rev-comp-barcodes --p-rev-comp-mapping-barcodes \\\n",
    "    --o-per-sample-sequences ${project}/kim-t1d-paired-end-demux.qza \\\n",
    "    --o-error-correction-details ${project}/demux-details.qza\n",
    "\n",
    "qiime demux summarize --i-data ${project}/kim-t1d-paired-end-demux.qza \\\n",
    "    --o-visualization ${project}/kim-t1d-paired-end-demux.qzv\n"
   ]
  },
  {
   "cell_type": "code",
   "execution_count": null,
   "metadata": {},
   "outputs": [],
   "source": [
    "#Importing sequences from MGD time series study (QIITA 10894)\n",
    "project=/Users/elizabethmallott/Dropbox/Projects/VMI/children/MGD_infant_timeseries\n",
    "\n",
    "cd ${project}\n",
    "\n",
    "qiime tools import --type 'SampleData[SequencesWithQuality]' --input-path ${project}/Manifest.tsv \\\n",
    "    --output-path mgd-single-end-demux.qza --input-format SingleEndFastqManifestPhred33V2\n",
    "    \n",
    "cd\n",
    "\n",
    "qiime demux summarize --i-data ${project}/mgd-single-end-demux.qza \\\n",
    "    --o-visualization ${project}/mgd-single-end-demux.qzv"
   ]
  },
  {
   "cell_type": "code",
   "execution_count": null,
   "metadata": {},
   "outputs": [],
   "source": [
    "#Importing sequences from Levin et al., 2016\n",
    "#Using forward reads only, because some sequences have length 0 in multiple files\n",
    "project=/Users/elizabethmallott/Dropbox/Projects/VMI/children/levin\n",
    "\n",
    "cd ${project}\n",
    "\n",
    "qiime tools import --type 'SampleData[SequencesWithQuality]' --input-path ${project}/Manifest.tsv \\\n",
    "    --output-path levin-single-end-demux.qza --input-format SingleEndFastqManifestPhred33V2\n",
    "    \n",
    "cd\n",
    "\n",
    "qiime demux summarize --i-data ${project}/levin-single-end-demux.qza \\\n",
    "    --o-visualization ${project}/levin-single-end-demux.qzv"
   ]
  },
  {
   "cell_type": "code",
   "execution_count": null,
   "metadata": {},
   "outputs": [],
   "source": [
    "#Importing sequences from Robinson et al., 2017\n",
    "project=/Users/elizabethmallott/Dropbox/Projects/VMI/children/robinson\n",
    "\n",
    "cd ${project}\n",
    "\n",
    "qiime tools import --type 'SampleData[PairedEndSequencesWithQuality]' --input-path ${project}/Manifest.tsv \\\n",
    "    --output-path robinson-paired-end-demux.qza --input-format PairedEndFastqManifestPhred33V2\n",
    "    \n",
    "cd\n",
    "\n",
    "qiime demux summarize --i-data ${project}/robinson-paired-end-demux.qza \\\n",
    "    --o-visualization ${project}/robinson-paired-end-demux.qzv"
   ]
  },
  {
   "cell_type": "markdown",
   "metadata": {},
   "source": [
    "### Running DADA2\n",
    "\n",
    "Each study was individually run through DADA2, per the QIIME developers' suggestions. Trimming and truncation parameters were set individually for each study due to differences in primer sets and sequencing quality."
   ]
  },
  {
   "cell_type": "code",
   "execution_count": null,
   "metadata": {},
   "outputs": [],
   "source": [
    "#DADA2 for Herman et al., 2019 sequences\n",
    "project=/Users/elizabethmallott/Dropbox/Projects/VMI/children/herman\n",
    "\n",
    "qiime dada2 denoise-paired --i-demultiplexed-seqs ${project}/herman-paired-end-demux.qza \\\n",
    "    --p-trunc-len-f 150 --p-trunc-len-r 150 --p-trim-left-f 19 --p-trim-left-r 20 --p-n-threads 2 \\\n",
    "    --o-table ${project}/herman-table.qza \\\n",
    "    --o-representative-sequences ${project}/herman-rep-seqs.qza \\\n",
    "    --o-denoising-stats ${project}/herman-dada2-stats.qza\n",
    "\n",
    "qiime metadata tabulate --m-input-file ${project}/herman-dada2-stats.qza \\\n",
    "    --o-visualization ${project}/herman-dada2-stats.qzv\n",
    "\n",
    "qiime feature-table summarize --i-table ${project}/herman-table.qza \\\n",
    "    --o-visualization ${project}/herman-table.qzv \\\n",
    "    --m-sample-metadata-file ${project}/herman_metadata.txt"
   ]
  },
  {
   "cell_type": "code",
   "execution_count": null,
   "metadata": {},
   "outputs": [],
   "source": [
    "#DADA2 for Chu et al., 2016 sequences\n",
    "project=/Users/elizabethmallott/Dropbox/Projects/VMI/children/chu\n",
    "\n",
    "qiime dada2 denoise-pyro --i-demultiplexed-seqs ${project}/chu-single-end-demux.qza \\\n",
    "    --p-trunc-len 450 --p-trim-left 17 --p-n-threads 2 \\\n",
    "    --o-table ${project}/chu-table.qza \\\n",
    "    --o-representative-sequences ${project}/chu-rep-seqs.qza \\\n",
    "    --o-denoising-stats ${project}/chu-dada2-stats.qza\n",
    "\n",
    "qiime metadata tabulate --m-input-file ${project}/chu-dada2-stats.qza \\\n",
    "    --o-visualization ${project}/chu-dada2-stats.qzv\n",
    "\n",
    "qiime feature-table summarize --i-table ${project}/chu-table.qza \\\n",
    "    --o-visualization ${project}/chu-table.qzv \\\n",
    "    --m-sample-metadata-file ${project}/chu_metadata.txt"
   ]
  },
  {
   "cell_type": "code",
   "execution_count": null,
   "metadata": {},
   "outputs": [],
   "source": [
    "#DADA2 for Planer et al., 2016 sequences\n",
    "project=/Users/elizabethmallott/Dropbox/Projects/VMI/children/planer\n",
    "\n",
    "qiime dada2 denoise-paired --i-demultiplexed-seqs ${project}/planer-paired-end-demux.qza \\\n",
    "    --p-trunc-len-f 220 --p-trunc-len-r 220 --p-trim-left-f 19 --p-trim-left-r 20 --p-n-threads 2 \\\n",
    "    --o-table ${project}/planer-table.qza \\\n",
    "    --o-representative-sequences ${project}/planer-rep-seqs.qza \\\n",
    "    --o-denoising-stats ${project}/planer-dada2-stats.qza\n",
    "\n",
    "qiime metadata tabulate --m-input-file ${project}/planer-dada2-stats.qza \\\n",
    "    --o-visualization ${project}/planer-dada2-stats.qzv\n",
    "\n",
    "qiime feature-table summarize --i-table ${project}/planer-table.qza \\\n",
    "    --o-visualization ${project}/planer-table.qzv \\\n",
    "    --m-sample-metadata-file ${project}/planer_metadata.txt"
   ]
  },
  {
   "cell_type": "code",
   "execution_count": null,
   "metadata": {},
   "outputs": [],
   "source": [
    "#DADA2 for Kim type 1 diabetes study (QIITA 11129)\n",
    "project=/Users/elizabethmallott/Dropbox/Projects/VMI/children/kim_t1d\n",
    "\n",
    "qiime dada2 denoise-paired --i-demultiplexed-seqs ${project}/kim-t1d-paired-end-demux.qza \\\n",
    "    --p-trunc-len-f 150 --p-trunc-len-r 150 --p-trim-left-f 0 --p-trim-left-r 0 --p-n-threads 2 \\\n",
    "    --o-table ${project}/kim-t1d-table.qza \\\n",
    "    --o-representative-sequences ${project}/kim-t1d-rep-seqs.qza \\c\n",
    "    --o-denoising-stats ${project}/kim-t1d-dada2-stats.qza\n",
    "\n",
    "qiime metadata tabulate --m-input-file ${project}/kim-t1d-dada2-stats.qza \\\n",
    "    --o-visualization ${project}/kim-t1d-dada2-stats.qzv\n",
    "\n",
    "qiime feature-table summarize --i-table ${project}/kim-t1d-table.qza \\\n",
    "    --o-visualization ${project}/kim-t1d-table.qzv \\\n",
    "    --m-sample-metadata-file ${project}/kim_metadata.txt"
   ]
  },
  {
   "cell_type": "code",
   "execution_count": null,
   "metadata": {},
   "outputs": [],
   "source": [
    "#DADA2 for MGD time series study (QIITA 10894)\n",
    "project=/Users/elizabethmallott/Dropbox/Projects/VMI/children/MGD_infant_timeseries\n",
    "\n",
    "qiime dada2 denoise-single --i-demultiplexed-seqs ${project}/mgd-single-end-demux.qza \\\n",
    "    --p-trunc-len 125 --p-trim-left 19 --p-n-threads 2 \\\n",
    "    --o-table ${project}/mgd-table.qza \\\n",
    "    --o-representative-sequences ${project}/mgd-rep-seqs.qza \\\n",
    "    --o-denoising-stats ${project}/mgd-dada2-stats.qza\n",
    "\n",
    "qiime metadata tabulate --m-input-file ${project}/mgd-dada2-stats.qza \\\n",
    "    --o-visualization ${project}/mgd-dada2-stats.qzv\n",
    "\n",
    "qiime feature-table summarize --i-table ${project}/mgd-table.qza \\\n",
    "    --o-visualization ${project}/mgd-table.qzv \\\n",
    "    --m-sample-metadata-file ${project}/mgd_timeseries_metadata.txt"
   ]
  },
  {
   "cell_type": "code",
   "execution_count": null,
   "metadata": {},
   "outputs": [],
   "source": [
    "#DADA2 for Levin et al., 2016 sequences\n",
    "project=/Users/elizabethmallott/Dropbox/Projects/VMI/children/levin\n",
    "\n",
    "qiime dada2 denoise-single --i-demultiplexed-seqs ${project}/levin-single-end-demux.qza \\\n",
    "    --p-trunc-len 250 --p-trim-left 19 --p-n-threads 2 \\\n",
    "    --o-table ${project}/levin-table.qza \\\n",
    "    --o-representative-sequences ${project}/levin-rep-seqs.qza \\\n",
    "    --o-denoising-stats ${project}/levin-dada2-stats.qza\n",
    "\n",
    "qiime metadata tabulate --m-input-file ${project}/levin-dada2-stats.qza \\\n",
    "    --o-visualization ${project}/levin-dada2-stats.qzv\n",
    "\n",
    "qiime feature-table summarize --i-table ${project}/levin-table.qza \\\n",
    "    --o-visualization ${project}/levin-table.qzv \\\n",
    "    --m-sample-metadata-file ${project}/levin_metadata.txt"
   ]
  },
  {
   "cell_type": "code",
   "execution_count": null,
   "metadata": {},
   "outputs": [],
   "source": [
    "#DADA2 for Robinson et al., 2017 sequences\n",
    "project=/Users/elizabethmallott/Dropbox/Projects/VMI/children/robinson\n",
    "\n",
    "qiime dada2 denoise-paired --i-demultiplexed-seqs ${project}/robinson-paired-end-demux.qza \\\n",
    "    --p-trunc-len-f 248 --p-trunc-len-r 200 --p-trim-left-f 19 --p-trim-left-r 20 --p-n-threads 2 \\\n",
    "    --o-table ${project}/robinson-table.qza \\\n",
    "    --o-representative-sequences ${project}/robinson-rep-seqs.qza \\\n",
    "    --o-denoising-stats ${project}/robinson-dada2-stats.qza\n",
    "\n",
    "qiime metadata tabulate --m-input-file ${project}/robinson-dada2-stats.qza \\\n",
    "    --o-visualization ${project}/robinson-dada2-stats.qzv\n",
    "\n",
    "qiime feature-table summarize --i-table ${project}/robinson-table.qza \\\n",
    "    --o-visualization ${project}/robinson-table.qzv \\\n",
    "    --m-sample-metadata-file ${project}/robinson_metadata.txt"
   ]
  },
  {
   "cell_type": "markdown",
   "metadata": {},
   "source": [
    "### Assigning taxonomy\n",
    "\n",
    "Taxonomy was assigned using a Naive-Bayesian classifier trained on the Greengenes 13_8 99% OTU full-length 16S sequence database. Taxonomy was assigned for each study individually, and then for merged datasets (see below).\n",
    "\n",
    "Pre-trained classifiers were obtained from the QIIME2 website:\n",
    "Bokulich, N.A., Robeson, M., Dillon, M.R. bokulich-lab/RESCRIPt. Zenodo. http://doi.org/10.5281/zenodo.3891931\n",
    "Bokulich, N.A., Kaehler, B.D., Rideout, J.R. et al. Optimizing taxonomic classification of marker-gene amplicon sequences with QIIME 2’s q2-feature-classifier plugin. Microbiome 6, 90 (2018). https://doi.org/10.1186/s40168-018-0470-z"
   ]
  },
  {
   "cell_type": "code",
   "execution_count": null,
   "metadata": {},
   "outputs": [],
   "source": [
    "#Taxonomy for Herman et al., 2019 sequences\n",
    "project=/Users/elizabethmallott/Dropbox/Projects/VMI/children/herman\n",
    "\n",
    "qiime feature-classifier classify-sklearn --i-classifier gg-13-8-99-nb-classifier.qza \\\n",
    "    --i-reads ${project}/herman-rep-seqs.qza --o-classification ${project}/herman-taxonomy.qza"
   ]
  },
  {
   "cell_type": "code",
   "execution_count": null,
   "metadata": {},
   "outputs": [],
   "source": [
    "#Taxonomy for Chu et al., 2016 sequences\n",
    "project=/Users/elizabethmallott/Dropbox/Projects/VMI/children/chu\n",
    "\n",
    "qiime feature-classifier classify-sklearn --i-classifier gg-13-8-99-nb-classifier.qza \\\n",
    "    --i-reads ${project}/chu-rep-seqs.qza --o-classification ${project}/chu-taxonomy.qza"
   ]
  },
  {
   "cell_type": "code",
   "execution_count": null,
   "metadata": {},
   "outputs": [],
   "source": [
    "#Taxonomy for Planer et al., 2016 sequences\n",
    "project=/Users/elizabethmallott/Dropbox/Projects/VMI/children/planer\n",
    "\n",
    "qiime feature-classifier classify-sklearn --i-classifier gg-13-8-99-nb-classifier.qza \\\n",
    "    --i-reads ${project}/planer-rep-seqs.qza --o-classification ${project}/planer-taxonomy.qza"
   ]
  },
  {
   "cell_type": "code",
   "execution_count": null,
   "metadata": {},
   "outputs": [],
   "source": [
    "#Taxonomy for Kim type 1 diabetes study (QIITA 11129)\n",
    "project=/Users/elizabethmallott/Dropbox/Projects/VMI/children/kim_t1d\n",
    "\n",
    "qiime feature-classifier classify-sklearn --i-classifier gg-13-8-99-nb-classifier.qza \\\n",
    "    --i-reads ${project}/kim-t1d-rep-seqs.qza --o-classification ${project}/kim-t1d-taxonomy.qza"
   ]
  },
  {
   "cell_type": "code",
   "execution_count": null,
   "metadata": {},
   "outputs": [],
   "source": [
    "#Taxonomy for MGD time series study (QIITA 10894)\n",
    "project=/Users/elizabethmallott/Dropbox/Projects/VMI/children/MGD_infant_timeseries\n",
    "\n",
    "qiime feature-classifier classify-sklearn --i-classifier gg-13-8-99-nb-classifier.qza \\\n",
    "    --i-reads ${project}/mgd-rep-seqs.qza --o-classification ${project}/mgd-taxonomy.qza"
   ]
  },
  {
   "cell_type": "code",
   "execution_count": null,
   "metadata": {},
   "outputs": [],
   "source": [
    "#Taxonomy for Levin et al., 2016\n",
    "project=/Users/elizabethmallott/Dropbox/Projects/VMI/children/levin\n",
    "\n",
    "qiime feature-classifier classify-sklearn --i-classifier gg-13-8-99-nb-classifier.qza \\\n",
    "    --i-reads ${project}/levin-rep-seqs.qza --o-classification ${project}/levin-taxonomy.qza"
   ]
  },
  {
   "cell_type": "code",
   "execution_count": null,
   "metadata": {},
   "outputs": [],
   "source": [
    "#Taxonomy for Robinson et al., 2017\n",
    "project=/Users/elizabethmallott/Dropbox/Projects/VMI/children/robinson\n",
    "\n",
    "qiime feature-classifier classify-sklearn --i-classifier gg-13-8-99-nb-classifier.qza \\\n",
    "    --i-reads ${project}/robinson-rep-seqs.qza --o-classification ${project}/robinson-taxonomy.qza"
   ]
  },
  {
   "cell_type": "markdown",
   "metadata": {},
   "source": [
    "### Merging datasets\n",
    "\n",
    "Output feature table and representative sequences from all studies were merged. The q2-fragment-insertion QIIME2 plugin was used to create phylogenetic trees with the merged datasets. The merged table was filtered to remove sequences not present in the insertion tree."
   ]
  },
  {
   "cell_type": "code",
   "execution_count": null,
   "metadata": {},
   "outputs": [],
   "source": [
    "project=/Users/elizabethmallott/Dropbox/Projects/VMI/children\n",
    "\n",
    "qiime feature-table merge --i-tables ${project}/herman/herman-table.qza --i-tables ${project}/chu/chu-table.qza \\\n",
    "     --i-tables ${project}/planer/planer-table.qza --i-tables ${project}/kim_t1d/kim-t1d-table.qza \\\n",
    "     --i-tables ${project}/MGD_infant_timeseries/mgd-table.qza ${project}/levin/levin-table.qza \\\n",
    "     --i-tables ${project}/robinson/robinson-table.qza --o-merged-table ${project}/merged-table.qza\n",
    "\n",
    "qiime feature-table merge-seqs --i-data ${project}/herman/herman-rep-seqs.qza \\\n",
    "    --i-data ${project}/chu/chu-rep-seqs.qza --i-data ${project}/planer/planer-rep-seqs.qza \\\n",
    "    --i-data ${project}/kim_t1d/kim-t1d-rep-seqs.qza --i-data ${project}/MGD_infant_timeseries/mgd-rep-seqs.qza \\\n",
    "    --i-data ${project}/levin/levin-rep-seqs.qza --i-data ${project}/robinson/robinson-rep-seqs.qza \\\n",
    "    --o-merged-data ${project}/merged-rep-seqs.qza \n",
    "\n",
    "wget -O \"sepp-refs-gg-13-8.qza\" \\\n",
    "  \"https://data.qiime2.org/2020.11/common/sepp-refs-gg-13-8.qza\"\n",
    "  \n",
    "qiime fragment-insertion sepp --i-representative-sequences ${project}/merged-rep-seqs.qza \\\n",
    "    --i-reference-database /Users/elizabethmallott/sepp-refs-gg-13-8.qza --o-tree ${project}/insertion-tree.qza \\\n",
    "    --o-placements ${project}/insertion-placements.qza --p-threads 2\n",
    "\n",
    "qiime fragment-insertion filter-features --i-table ${project}/merged-table.qza \\\n",
    "    --i-tree ${project}/insertion-tree.qza --o-filtered-table ${project}/insertion-filtered-merged-table.qza \\\n",
    "    --o-removed-table ${project}/removed-insertion-merged-table.qza"
   ]
  },
  {
   "cell_type": "markdown",
   "metadata": {},
   "source": [
    "### Taxonomic assigned of merged datasets\n",
    "\n",
    "We assigned taxonomy to the merged dataset two ways. First, using a Naive-Bayesian classifier trained on the Greengenes 13_8 99% OTU full-length 16S sequence database, as above. Second, we used the experimental OTU classification method based on the results of the fragment insertion method results. Mitochondrial and chloroplast sequences were removed based on the results of both methods."
   ]
  },
  {
   "cell_type": "code",
   "execution_count": null,
   "metadata": {},
   "outputs": [],
   "source": [
    "project=/Users/elizabethmallott/Dropbox/Projects/VMI/children\n",
    "\n",
    "qiime feature-classifier classify-sklearn --i-classifier gg-13-8-99-nb-classifier.qza \\\n",
    "    --i-reads ${project}/merged-rep-seqs.qza --o-classification ${project}/merged-taxonomy.qza\n",
    "    \n",
    "qiime fragment-insertion classify-otus-experimental --i-representative-sequences ${project}/merged-rep-seqs.qza \\\n",
    "    --i-tree ${project}/insertion-tree.qza --i-reference-taxonomy ${project}/taxonomy_gg99.qza \\\n",
    "    --o-classification ${project}/merged-otu-taxonomy.qza"
   ]
  },
  {
   "cell_type": "markdown",
   "metadata": {},
   "source": [
    "### Filtering table\n",
    "\n",
    "The merged table was filtered to remove mitochondrial and chloroplast sequences, as well as remove control sample or non-fecal samples from some datasets. The table was then filtered to remove samples lacking specific metadata categories prior to downstream analysis."
   ]
  },
  {
   "cell_type": "code",
   "execution_count": null,
   "metadata": {},
   "outputs": [],
   "source": [
    "project=/Users/elizabethmallott/Dropbox/Projects/VMI/children\n",
    "\n",
    "qiime taxa filter-table --i-table ${project}/insertion-filtered-merged-table.qza \\\n",
    "    --i-taxonomy ${project}/merged-taxonomy.qza --p-exclude mitochondria,chloroplast \\\n",
    "    --o-filtered-table ${project}/merged-table-nomito-nochloro.qza\n",
    "\n",
    "qiime taxa filter-table --i-table ${project}/insertion-filtered-merged-table.qza \\\n",
    "    --i-taxonomy ${project}/merged-otu-taxonomy.qza --p-exclude mitochondria,chloroplast \\\n",
    "    --o-filtered-table ${project}/merged-table-nomito-nochloro-otu.qza\n",
    "    \n",
    "qiime feature-table filter-samples --i-table ${project}/merged-table-nomito-nochloro.qza \\\n",
    "    --m-metadata-file ${project}/metadata-combined.txt --o-filtered-table ${project}/merged-table-filtered.qza\n",
    "    \n",
    "qiime feature-table filter-samples --i-table ${project}/merged-table-nomito-nochloro-otu.qza \\\n",
    "    --m-metadata-file ${project}/metadata-combined.txt --o-filtered-table ${project}/merged-table-filtered-otu.qza\n",
    "    \n",
    "qiime feature-table summarize --i-table ${project}/merged-table-filtered.qza \\\n",
    "    --o-visualization ${project}/merged-table-filtered.qzv \\\n",
    "    --m-sample-metadata-file ${project}/metadata-combined.txt\n",
    "\n",
    "qiime feature-table summarize --i-table ${project}/merged-table-filtered-otu.qza \\\n",
    "    --o-visualization ${project}/merged-table-filtered-otu.qzv \\\n",
    "    --m-sample-metadata-file ${project}/metadata-combined.txt\n",
    "\n",
    "qiime feature-table filter-samples --i-table ${project}/merged-table-nomito-nochloro.qza \\\n",
    "    --m-metadata-file ${project}/metadata-combined-re.txt \\\n",
    "    --o-filtered-table ${project}/merged-table-filtered-re.qza\n",
    "\n",
    "qiime feature-table filter-samples --i-table ${project}/merged-table-nomito-nochloro.qza \\\n",
    "    --m-metadata-file ${project}/metadata-combined-re-age.txt \\\n",
    "    --o-filtered-table ${project}/merged-table-filtered-re-age.qza\n",
    "\n",
    "qiime feature-table filter-samples --i-table ${project}/merged-table-nomito-nochloro.qza \\\n",
    "    --m-metadata-file ${project}/metadata-combined-re-age-sex.txt \\\n",
    "    --o-filtered-table ${project}/merged-table-filtered-re-age-sex.qza\n",
    "\n",
    "qiime feature-table filter-samples --i-table ${project}/merged-table-nomito-nochloro.qza \\\n",
    "    --m-metadata-file ${project}/metadata-combined-re-age-sex-delivery.txt \\\n",
    "    --o-filtered-table ${project}/merged-table-filtered-re-age-sex-delivery.qza\n",
    "\n",
    "qiime feature-table filter-samples --i-table ${project}/merged-table-nomito-nochloro.qza \\\n",
    "    --m-metadata-file ${project}/metadata-combined-re-age-sex-feeding.txt \\\n",
    "    --o-filtered-table ${project}/merged-table-filtered-re-age-sex-feeding.qza\n",
    "\n",
    "qiime feature-table filter-samples --i-table ${project}/merged-table-nomito-nochloro.qza \\\n",
    "    --m-metadata-file ${project}/metadata-combined-re-age-sex-delivery-feeding.txt \\\n",
    "    --o-filtered-table ${project}/merged-table-filtered-re-age-sex-delivery-feeding.qza"
   ]
  },
  {
   "cell_type": "markdown",
   "metadata": {},
   "source": [
    "### Alpha and beta diversity analyses\n",
    "\n",
    "Alpha and beta diversity metrics were calculated in QIIME2, and then results were output to R for statistical analysis."
   ]
  },
  {
   "cell_type": "code",
   "execution_count": null,
   "metadata": {},
   "outputs": [],
   "source": [
    "project=/Users/elizabethmallott/Dropbox/Projects/VMI/children\n",
    "\n",
    "qiime diversity core-metrics-phylogenetic --i-phylogeny ${project}/insertion-tree.qza \\\n",
    "    --i-table ${project}/merged-table-filtered.qza --p-sampling-depth 5000 \\\n",
    "    --m-metadata-file ${project}/metadata-combined.txt \\\n",
    "    --output-dir ${project}/core-metrics-5000\n",
    "\n",
    "qiime diversity core-metrics-phylogenetic --i-phylogeny ${project}/insertion-tree.qza \\\n",
    "    --i-table ${project}/merged-table-filtered-re.qza --p-sampling-depth 5000 \\\n",
    "    --m-metadata-file ${project}/metadata-combined-re.txt \\\n",
    "    --output-dir ${project}/core-metrics-5000-re\n",
    "\n",
    "qiime diversity core-metrics-phylogenetic --i-phylogeny ${project}/insertion-tree.qza \\\n",
    "    --i-table ${project}/merged-table-filtered-re-age.qza --p-sampling-depth 5000 \\\n",
    "    --m-metadata-file ${project}/metadata-combined-re-age.txt \\\n",
    "    --output-dir ${project}/core-metrics-5000-re-age\n",
    "\n",
    "qiime diversity core-metrics-phylogenetic --i-phylogeny ${project}/insertion-tree.qza \\\n",
    "    --i-table ${project}/merged-table-filtered-re-age-sex.qza --p-sampling-depth 5000 \\\n",
    "    --m-metadata-file ${project}/metadata-combined-re-age-sex.txt \\\n",
    "    --output-dir ${project}/core-metrics-5000-re-age-sex\n",
    "\n",
    "qiime diversity core-metrics-phylogenetic --i-phylogeny ${project}/insertion-tree.qza \\\n",
    "    --i-table ${project}/merged-table-filtered-re-age-sex-delivery.qza --p-sampling-depth 5000 \\\n",
    "    --m-metadata-file ${project}/metadata-combined-re-age-sex-delivery.txt \\\n",
    "    --output-dir ${project}/core-metrics-5000-re-age-sex-delivery\n",
    "\n",
    "qiime diversity core-metrics-phylogenetic --i-phylogeny ${project}/insertion-tree.qza \\\n",
    "    --i-table ${project}/merged-table-filtered-re-age-sex-feeding.qza --p-sampling-depth 5000 \\\n",
    "    --m-metadata-file ${project}/metadata-combined-re-age-sex-feeding.txt \\\n",
    "    --output-dir ${project}/core-metrics-5000-re-age-sex-feeding\n",
    "\n",
    "qiime diversity core-metrics-phylogenetic --i-phylogeny ${project}/insertion-tree.qza \\\n",
    "    --i-table ${project}/merged-table-filtered-re-age-sex-delivery-feeding.qza --p-sampling-depth 5000 \\\n",
    "    --m-metadata-file ${project}/metadata-combined-re-age-sex-delivery-feeding.txt \\\n",
    "    --output-dir ${project}/core-metrics-5000-re-age-sex-delivery-feeding\n",
    "\n",
    "qiime tools extract --input-path ${project}/core-metrics-5000/unweighted_unifrac_distance_matrix.qza \\\n",
    "    --output-path ${project}/core-metrics-5000\n",
    "\n",
    "qiime tools extract --input-path ${project}/core-metrics-5000-/weighted_unifrac_distance_matrix.qza \\\n",
    "    --output-path ${project}/core-metrics-5000\n",
    "\n",
    "qiime tools extract --input-path ${project}/core-metrics-5000-re/unweighted_unifrac_distance_matrix.qza \\\n",
    "    --output-path ${project}/core-metrics-5000-re\n",
    "\n",
    "qiime tools extract --input-path ${project}/core-metrics-5000-re/weighted_unifrac_distance_matrix.qza \\\n",
    "    --output-path ${project}/core-metrics-5000-re\n",
    "\n",
    "qiime tools extract --input-path ${project}/core-metrics-5000-re-age/unweighted_unifrac_distance_matrix.qza \\\n",
    "    --output-path ${project}/core-metrics-5000-re-age\n",
    "\n",
    "qiime tools extract --input-path ${project}/core-metrics-5000-re-age/weighted_unifrac_distance_matrix.qza \\\n",
    "    --output-path ${project}/core-metrics-5000-re-age\n",
    "\n",
    "qiime tools extract --input-path ${project}/core-metrics-5000-re-age-sex/unweighted_unifrac_distance_matrix.qza \\\n",
    "    --output-path ${project}/core-metrics-5000-re-age-sex\n",
    "\n",
    "qiime tools extract --input-path ${project}/core-metrics-5000-re-age-sex/weighted_unifrac_distance_matrix.qza \\\n",
    "    --output-path ${project}/core-metrics-5000-re-age-sex\n",
    "\n",
    "qiime tools extract --input-path ${project}/core-metrics-5000-re-age-sex-delivery/unweighted_unifrac_distance_matrix.qza \\\n",
    "    --output-path ${project}/core-metrics-5000-re-age-sex-delivery\n",
    "\n",
    "qiime tools extract --input-path ${project}/core-metrics-5000-re-age-sex-delivery/weighted_unifrac_distance_matrix.qza \\\n",
    "    --output-path ${project}/core-metrics-5000-re-age-sex-delivery\n",
    "\n",
    "qiime tools extract --input-path ${project}/core-metrics-5000-re-age-sex-feeding/unweighted_unifrac_distance_matrix.qza \\\n",
    "    --output-path ${project}/core-metrics-5000-re-age-sex-feeding\n",
    "\n",
    "qiime tools extract --input-path ${project}/core-metrics-5000-re-age-sex-feeding/weighted_unifrac_distance_matrix.qza \\\n",
    "    --output-path ${project}/core-metrics-5000-re-age-sex-feeding\n",
    "\n",
    "qiime tools extract --input-path ${project}/core-metrics-5000-re-age-sex-delivery-feeding/unweighted_unifrac_distance_matrix.qza \\\n",
    "    --output-path ${project}/core-metrics-5000-re-age-sex-delivery-feeding\n",
    "\n",
    "qiime tools extract --input-path ${project}/core-metrics-5000-re-age-sex-delivery-feeding/weighted_unifrac_distance_matrix.qza \\\n",
    "    --output-path ${project}/core-metrics-5000-re-age-sex-delivery-feeding\n",
    "\n",
    "qiime tools export --input-path ${project}/core-metrics-5000/faith_pd_vector.qza \\\n",
    "    --output-path ${project}/alpha_out\n",
    "\n",
    "qiime tools export --input-path ${project}/core-metrics-5000/shannon_vector.qza \\\n",
    "    --output-path ${project}/alpha_out\n",
    "\n",
    "qiime tools export --input-path ${project}/core-metrics-5000/observed_features_vector.qza \\\n",
    "    --output-path ${project}/alpha_out"
   ]
  },
  {
   "cell_type": "markdown",
   "metadata": {},
   "source": [
    "### Taxa bar plots\n",
    "\n",
    "Taxa bar plots were constructed for both the taxonomic assignment methods. Then feature tables were converted to relative abundance and exported."
   ]
  },
  {
   "cell_type": "code",
   "execution_count": null,
   "metadata": {},
   "outputs": [],
   "source": [
    "qiime taxa barplot --i-table ${project}/merged-table-filtered.qza --i-taxonomy ${project}/merged-taxonomy.qza \\\n",
    "    --m-metadata-file ${project}/metadata-combined.txt --o-visualization ${project}/taxa_plots_merged_filtered.qzv\n",
    "\n",
    "qiime taxa barplot --i-table ${project}/merged-table-filtered-otu.qza --i-taxonomy ${project}/merged-otu-taxonomy.qza \\\n",
    "    --m-metadata-file ${project}/metadata-combined.txt --o-visualization ${project}/taxa_plots_merged_filtered-otu.qzv\n",
    "    \n",
    "qiime feature-table relative-frequency --i-table ${project}/merged-table-filtered.qza \\\n",
    "    --o-relative-frequency-table ${project}/merged-table-filtered-relab.qza\n",
    "\n",
    "qiime tools export --input-path ${project}/merged-table-filtered-relab.qza --output-path ${project}/exported\n",
    "\n",
    "qiime tools export --input-path ${project}/merged-taxonomy.qza --output-path ${project}/exported\n",
    "\n",
    "cp ${project}/exported/taxonomy.tsv ${project}/biom-taxonomy.tsv #edit header to #OTUID taxonomy confidence\n",
    "\n",
    "biom add-metadata -i ${project}/exported/feature-table.biom -o ${project}/table-with-taxonomy.biom \\\n",
    "    --observation-metadata-fp ${project}/biom-taxonomy.tsv --sc-separated taxonomy\n",
    "\n",
    "biom convert -i ${project}/table-with-taxonomy.biom -o ${project}/feature-table-full.tsv \\\n",
    "    --to-tsv --header-key taxonomy"
   ]
  }
 ],
 "metadata": {
  "kernelspec": {
   "display_name": "Bash",
   "language": "bash",
   "name": "bash"
  },
  "language_info": {
   "codemirror_mode": "shell",
   "file_extension": ".sh",
   "mimetype": "text/x-sh",
   "name": "bash"
  }
 },
 "nbformat": 4,
 "nbformat_minor": 4
}
